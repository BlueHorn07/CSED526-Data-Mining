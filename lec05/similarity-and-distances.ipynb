{
  "nbformat": 4,
  "nbformat_minor": 0,
  "metadata": {
    "colab": {
      "name": "Untitled0.ipynb",
      "provenance": [],
      "collapsed_sections": []
    },
    "kernelspec": {
      "name": "python3",
      "display_name": "Python 3"
    },
    "language_info": {
      "name": "python"
    }
  },
  "cells": [
    {
      "cell_type": "markdown",
      "metadata": {
        "id": "AQyTumU3OQQl"
      },
      "source": [
        "# Similarity & Distances\n",
        "\n",
        "1. cosine similarity\n",
        "2. Minkowski distance\n",
        "3. Mahalanobis distance\n",
        "4. Simple Matching Coefficients\n",
        "5. Jaccard Coefficients\n",
        "6. Correlation\n",
        "7. Entropy\n",
        "8. Mutual Information"
      ]
    },
    {
      "cell_type": "code",
      "metadata": {
        "colab": {
          "base_uri": "https://localhost:8080/",
          "height": 203
        },
        "id": "D4ySSaEUPUf6",
        "outputId": "3028f998-fcf5-410b-e2c1-bc9a3f7177c1"
      },
      "source": [
        "import pandas as pd\n",
        "import numpy as np\n",
        "from numpy import linalg as la\n",
        "\n",
        "cars = pd.read_csv(\"https://gist.githubusercontent.com/noamross/e5d3e859aa0c794be10b/raw/b999fb4425b54c63cab088c0ce2c0d6ce961a563/cars.csv\")\n",
        "cars.head()"
      ],
      "execution_count": 1,
      "outputs": [
        {
          "output_type": "execute_result",
          "data": {
            "text/html": [
              "<div>\n",
              "<style scoped>\n",
              "    .dataframe tbody tr th:only-of-type {\n",
              "        vertical-align: middle;\n",
              "    }\n",
              "\n",
              "    .dataframe tbody tr th {\n",
              "        vertical-align: top;\n",
              "    }\n",
              "\n",
              "    .dataframe thead th {\n",
              "        text-align: right;\n",
              "    }\n",
              "</style>\n",
              "<table border=\"1\" class=\"dataframe\">\n",
              "  <thead>\n",
              "    <tr style=\"text-align: right;\">\n",
              "      <th></th>\n",
              "      <th>Unnamed: 0</th>\n",
              "      <th>mpg</th>\n",
              "      <th>cyl</th>\n",
              "      <th>disp</th>\n",
              "      <th>hp</th>\n",
              "      <th>drat</th>\n",
              "      <th>wt</th>\n",
              "      <th>qsec</th>\n",
              "      <th>vs</th>\n",
              "      <th>am</th>\n",
              "      <th>gear</th>\n",
              "      <th>carb</th>\n",
              "    </tr>\n",
              "  </thead>\n",
              "  <tbody>\n",
              "    <tr>\n",
              "      <th>0</th>\n",
              "      <td>Mazda RX4</td>\n",
              "      <td>21.0</td>\n",
              "      <td>6</td>\n",
              "      <td>160.0</td>\n",
              "      <td>110</td>\n",
              "      <td>3.90</td>\n",
              "      <td>2.620</td>\n",
              "      <td>16.46</td>\n",
              "      <td>0</td>\n",
              "      <td>1</td>\n",
              "      <td>4</td>\n",
              "      <td>4</td>\n",
              "    </tr>\n",
              "    <tr>\n",
              "      <th>1</th>\n",
              "      <td>Mazda RX4 Wag</td>\n",
              "      <td>21.0</td>\n",
              "      <td>6</td>\n",
              "      <td>160.0</td>\n",
              "      <td>110</td>\n",
              "      <td>3.90</td>\n",
              "      <td>2.875</td>\n",
              "      <td>17.02</td>\n",
              "      <td>0</td>\n",
              "      <td>1</td>\n",
              "      <td>4</td>\n",
              "      <td>4</td>\n",
              "    </tr>\n",
              "    <tr>\n",
              "      <th>2</th>\n",
              "      <td>Datsun 710</td>\n",
              "      <td>22.8</td>\n",
              "      <td>4</td>\n",
              "      <td>108.0</td>\n",
              "      <td>93</td>\n",
              "      <td>3.85</td>\n",
              "      <td>2.320</td>\n",
              "      <td>18.61</td>\n",
              "      <td>1</td>\n",
              "      <td>1</td>\n",
              "      <td>4</td>\n",
              "      <td>1</td>\n",
              "    </tr>\n",
              "    <tr>\n",
              "      <th>3</th>\n",
              "      <td>Hornet 4 Drive</td>\n",
              "      <td>21.4</td>\n",
              "      <td>6</td>\n",
              "      <td>258.0</td>\n",
              "      <td>110</td>\n",
              "      <td>3.08</td>\n",
              "      <td>3.215</td>\n",
              "      <td>19.44</td>\n",
              "      <td>1</td>\n",
              "      <td>0</td>\n",
              "      <td>3</td>\n",
              "      <td>1</td>\n",
              "    </tr>\n",
              "    <tr>\n",
              "      <th>4</th>\n",
              "      <td>Hornet Sportabout</td>\n",
              "      <td>18.7</td>\n",
              "      <td>8</td>\n",
              "      <td>360.0</td>\n",
              "      <td>175</td>\n",
              "      <td>3.15</td>\n",
              "      <td>3.440</td>\n",
              "      <td>17.02</td>\n",
              "      <td>0</td>\n",
              "      <td>0</td>\n",
              "      <td>3</td>\n",
              "      <td>2</td>\n",
              "    </tr>\n",
              "  </tbody>\n",
              "</table>\n",
              "</div>"
            ],
            "text/plain": [
              "          Unnamed: 0   mpg  cyl   disp   hp  ...   qsec  vs  am  gear  carb\n",
              "0          Mazda RX4  21.0    6  160.0  110  ...  16.46   0   1     4     4\n",
              "1      Mazda RX4 Wag  21.0    6  160.0  110  ...  17.02   0   1     4     4\n",
              "2         Datsun 710  22.8    4  108.0   93  ...  18.61   1   1     4     1\n",
              "3     Hornet 4 Drive  21.4    6  258.0  110  ...  19.44   1   0     3     1\n",
              "4  Hornet Sportabout  18.7    8  360.0  175  ...  17.02   0   0     3     2\n",
              "\n",
              "[5 rows x 12 columns]"
            ]
          },
          "metadata": {
            "tags": []
          },
          "execution_count": 1
        }
      ]
    },
    {
      "cell_type": "markdown",
      "metadata": {
        "id": "-uBZFwuPOcC6"
      },
      "source": [
        "## Cosine Similarity\n",
        "\n",
        "$$\n",
        "\\cos(\\mathbf{x}, \\mathbf{y}) = \\frac{\\mathbf{x} \\cdot \\mathbf{y}}{\\left\\| \\mathbf{x} \\right\\| \\left\\| \\mathbf{y} \\right\\|}\n",
        "$$"
      ]
    },
    {
      "cell_type": "code",
      "metadata": {
        "id": "w7fySVKSOFiL"
      },
      "source": [
        "def cosine_similarity(x, y):\n",
        "  return np.dot(x, y) / (la.norm(x) * la.norm(y))"
      ],
      "execution_count": 2,
      "outputs": []
    },
    {
      "cell_type": "code",
      "metadata": {
        "colab": {
          "base_uri": "https://localhost:8080/"
        },
        "id": "fBqsrdhjOhN4",
        "outputId": "0a620724-f33f-44fa-a705-787cb8571a6d"
      },
      "source": [
        "disp = cars[\"disp\"]\n",
        "hp = cars[\"hp\"]\n",
        "\n",
        "print(\"(disp, disp):\", cosine_similarity(disp, disp))\n",
        "print(\"(disp, hp):\", cosine_similarity(disp, hp))"
      ],
      "execution_count": 3,
      "outputs": [
        {
          "output_type": "stream",
          "text": [
            "(disp, disp): 1.0\n",
            "(disp, hp): 0.9576399993708385\n"
          ],
          "name": "stdout"
        }
      ]
    },
    {
      "cell_type": "markdown",
      "metadata": {
        "id": "UTHxXneGScyG"
      },
      "source": [
        "## Minkowski Distance\n",
        "\n",
        "$$\n",
        "d(\\mathbf{x}, \\mathbf{y}) = \\left( \\displaystyle \\sum^n_{k=1} \\left| x_k - y_k \\right|^r \\right)^{1/r}\n",
        "$$"
      ]
    },
    {
      "cell_type": "code",
      "metadata": {
        "id": "p8tPYfx9Se0n"
      },
      "source": [
        "def minkowski_distance(x, y, r):\n",
        "  sum = 0\n",
        "  for i in range(len(x)):\n",
        "    sum += np.power(np.abs(x[i] - y[i]), r)\n",
        "  return np.power(sum, 1/r)"
      ],
      "execution_count": 4,
      "outputs": []
    },
    {
      "cell_type": "code",
      "metadata": {
        "colab": {
          "base_uri": "https://localhost:8080/"
        },
        "id": "_rvvtA_ESjlP",
        "outputId": "3c72d411-f227-4611-ee08-909f7342d08f"
      },
      "source": [
        "print(\"(disp, disp, r=2):\", minkowski_distance(disp, disp, 2))\n",
        "print(\"(disp, hp, r=2):\", minkowski_distance(disp, hp, 2))\n",
        "print(\"(disp, hp, r=3):\", minkowski_distance(disp, hp, 3))\n",
        "print(\"(disp, hp, r=100):\", minkowski_distance(disp, hp, 100))"
      ],
      "execution_count": 5,
      "outputs": [
        {
          "output_type": "stream",
          "text": [
            "(disp, disp, r=2): 0.0\n",
            "(disp, hp, r=2): 656.6404419467323\n",
            "(disp, hp, r=3): 433.2535606783471\n",
            "(disp, hp, r=100): 267.0004920859905\n"
          ],
          "name": "stdout"
        }
      ]
    },
    {
      "cell_type": "markdown",
      "metadata": {
        "id": "jURxVVdrS7SD"
      },
      "source": [
        "## Mahalanobis Distance\n",
        "\n",
        "$$\n",
        "d(\\mathbf{x}, \\mathbf{y}) = \\left( (\\mathbf{x} - \\mathbf{y})^T \\Sigma^{-1} (\\mathbf{x} - \\mathbf{y})\\right)^{1/2}\n",
        "$$"
      ]
    },
    {
      "cell_type": "code",
      "metadata": {
        "id": "3qeE7IAxS9n_"
      },
      "source": [
        "def mahalanobis_distance(x, y, cov):\n",
        "  return np.power(np.transpose(x - y) @ cov @ (x-y), 0.5)"
      ],
      "execution_count": 6,
      "outputs": []
    },
    {
      "cell_type": "code",
      "metadata": {
        "colab": {
          "base_uri": "https://localhost:8080/"
        },
        "id": "dVmPJLM9Td1Y",
        "outputId": "fccd65e4-14ec-4ed5-9224-7ea8c7d07696"
      },
      "source": [
        "np.cov(disp, disp)"
      ],
      "execution_count": 7,
      "outputs": [
        {
          "output_type": "execute_result",
          "data": {
            "text/plain": [
              "array([[15360.79982863, 15360.79982863],\n",
              "       [15360.79982863, 15360.79982863]])"
            ]
          },
          "metadata": {
            "tags": []
          },
          "execution_count": 7
        }
      ]
    },
    {
      "cell_type": "code",
      "metadata": {
        "colab": {
          "base_uri": "https://localhost:8080/"
        },
        "id": "qrJ7myOeTE84",
        "outputId": "d5543a8d-1a83-4fb9-d451-e049e269cf0b"
      },
      "source": [
        "cov = np.random.rand(len(disp), len(disp))\n",
        "\n",
        "print(\"(disp, disp):\", mahalanobis_distance(disp, disp, cov))\n",
        "print(\"(disp, hp):\", mahalanobis_distance(disp, hp, cov))"
      ],
      "execution_count": 8,
      "outputs": [
        {
          "output_type": "stream",
          "text": [
            "(disp, disp): 0.0\n",
            "(disp, hp): 1888.37286086607\n"
          ],
          "name": "stdout"
        }
      ]
    },
    {
      "cell_type": "markdown",
      "metadata": {
        "id": "5AHts3hSXz_6"
      },
      "source": [
        "### SMC; Simple Matching Coefficients\n",
        "\n",
        "$$\n",
        "\\text{SMC} = \\frac{f_{11} + f_{00}}{f_{01} + f_{10} + f_{11} + f_{00}}\n",
        "$$"
      ]
    },
    {
      "cell_type": "code",
      "metadata": {
        "id": "V4bE3i7NX57K"
      },
      "source": [
        "def SMC(x, y):\n",
        "  return np.sum(x == y) / len(x)"
      ],
      "execution_count": 9,
      "outputs": []
    },
    {
      "cell_type": "code",
      "metadata": {
        "colab": {
          "base_uri": "https://localhost:8080/"
        },
        "id": "QwXXpoOeYEJy",
        "outputId": "f2d018e7-9ae4-4878-c081-d7f3d4a28116"
      },
      "source": [
        "x = np.array([1, 0, 0, 0, 0, 0, 0, 0, 0, 0])\n",
        "y = np.array([0, 0, 0, 0, 0, 0, 1, 0, 0, 1])\n",
        "\n",
        "SMC(x, y)"
      ],
      "execution_count": 10,
      "outputs": [
        {
          "output_type": "execute_result",
          "data": {
            "text/plain": [
              "0.7"
            ]
          },
          "metadata": {
            "tags": []
          },
          "execution_count": 10
        }
      ]
    },
    {
      "cell_type": "markdown",
      "metadata": {
        "id": "7-cQaR6NY_91"
      },
      "source": [
        "## Jaccard Coefficients\n",
        "\n",
        "$$\n",
        "J = \\frac{f_{11}}{f_{01} + f_{10} + f_{11}}\n",
        "$$"
      ]
    },
    {
      "cell_type": "code",
      "metadata": {
        "id": "0fVnLZBEZIqW"
      },
      "source": [
        "def Jaccard(x, y):\n",
        "  f_11 = 0\n",
        "  f_00 = 0\n",
        "  for i in range(len(x)):\n",
        "    if x[i] == y[i] == 1:\n",
        "      f_11 += 1\n",
        "    if x[i] == 0 and y[i] == 0:\n",
        "      f_00 += 1\n",
        "  return f_11 / (len(x) - f_00)"
      ],
      "execution_count": 11,
      "outputs": []
    },
    {
      "cell_type": "code",
      "metadata": {
        "colab": {
          "base_uri": "https://localhost:8080/"
        },
        "id": "Pb9ZGMRMY_hr",
        "outputId": "c20720a3-24ac-4f92-81dd-1a04d43cd79e"
      },
      "source": [
        "x = np.array([1, 0, 0, 0, 0, 0, 0, 0, 0, 0])\n",
        "y = np.array([0, 0, 0, 0, 0, 0, 1, 0, 0, 1])\n",
        "\n",
        "Jaccard(x, y)"
      ],
      "execution_count": 12,
      "outputs": [
        {
          "output_type": "execute_result",
          "data": {
            "text/plain": [
              "0.0"
            ]
          },
          "metadata": {
            "tags": []
          },
          "execution_count": 12
        }
      ]
    },
    {
      "cell_type": "markdown",
      "metadata": {
        "id": "WHFJbvgrbNHZ"
      },
      "source": [
        "## Correlation\n",
        "\n",
        "$$\n",
        "\\text{Corr}(x, y) = \\frac{\\text{Cov}(x, y)}{\\sigma_x \\cdot \\sigma_y}\n",
        "$$"
      ]
    },
    {
      "cell_type": "code",
      "metadata": {
        "id": "ebN0UKAFbYfn"
      },
      "source": [
        "def Correlation(x, y):\n",
        "  n = len(x)\n",
        "  x_m, y_m = np.mean(x), np.mean(y)\n",
        "  cov = np.sum((x-x_m) * (y-y_m)) / n\n",
        "  return cov / (np.std(x) * np.std(y))"
      ],
      "execution_count": 13,
      "outputs": []
    },
    {
      "cell_type": "code",
      "metadata": {
        "colab": {
          "base_uri": "https://localhost:8080/"
        },
        "id": "X8p4DycfbiVz",
        "outputId": "e8079a94-bdf2-438b-e15c-95445e367daa"
      },
      "source": [
        "disp = cars[\"disp\"]\n",
        "hp = cars[\"hp\"]\n",
        "\n",
        "print(\"(disp, disp):\", Correlation(disp, disp))\n",
        "print(\"(disp, hp):\", Correlation(disp, hp))"
      ],
      "execution_count": 14,
      "outputs": [
        {
          "output_type": "stream",
          "text": [
            "(disp, disp): 1.0\n",
            "(disp, hp): 0.7909485863698065\n"
          ],
          "name": "stdout"
        }
      ]
    },
    {
      "cell_type": "markdown",
      "metadata": {
        "id": "KohZJ8vVdD6W"
      },
      "source": [
        "## Entropy\n",
        "\n",
        "$$\n",
        "H(X) = - \\sum^n_{i=1} p_i \\log_2 p_i\n",
        "$$\n",
        "\n",
        "이때, entropy의 단위는 'bit'이다. 엔트로피가 클수록 불확실성이 크다는 것을 의미한다. 👉 ['Skywalk'님의 포스트](https://hyunw.kim/blog/2017/10/14/Entropy.html)를 참고하길 바란다."
      ]
    },
    {
      "cell_type": "code",
      "metadata": {
        "id": "SMRVVp1EfvAV"
      },
      "source": [
        "def Entropy(x):\n",
        "  Hx, n = 0, len(x)\n",
        "  x = pd.value_counts(x.values, sort=False)\n",
        "  for xi in x:\n",
        "    pi = xi / n\n",
        "    Hx -= pi * np.log2(pi)\n",
        "  return Hx"
      ],
      "execution_count": 15,
      "outputs": []
    },
    {
      "cell_type": "code",
      "metadata": {
        "colab": {
          "base_uri": "https://localhost:8080/"
        },
        "id": "3xin2wmJd4SQ",
        "outputId": "347775b6-a85e-4e7f-e83d-d88ea052cc80"
      },
      "source": [
        "gear = cars[\"gear\"]\n",
        "\n",
        "Entropy(gear)"
      ],
      "execution_count": 16,
      "outputs": [
        {
          "output_type": "execute_result",
          "data": {
            "text/plain": [
              "1.4614828307119232"
            ]
          },
          "metadata": {
            "tags": []
          },
          "execution_count": 16
        }
      ]
    },
    {
      "cell_type": "markdown",
      "metadata": {
        "id": "bZ7h-2RriagE"
      },
      "source": [
        "## Mutual Information\n",
        "\n",
        "$$\n",
        "I(X, Y) = H(X) + H(Y) - H(X, Y)\n",
        "$$\n",
        "\n",
        "where $H(X, Y)$ is the joint entropy of $X$ and $Y$,\n",
        "\n",
        "$$\n",
        "H(X, Y) = - \\sum_i \\sum_j p_{ij} \\log_2 p_{ij}\n",
        "$$"
      ]
    },
    {
      "cell_type": "code",
      "metadata": {
        "id": "m7aAHX6tnGJc"
      },
      "source": [
        "def Mutual_Info(x, y, xy):\n",
        "  Hx = Entropy(x)\n",
        "  Hy = Entropy(y)\n",
        "  Hxy = Entropy(xy.value_counts())\n",
        "\n",
        "  return Hx + Hy - Hxy\n"
      ],
      "execution_count": 17,
      "outputs": []
    },
    {
      "cell_type": "code",
      "metadata": {
        "colab": {
          "base_uri": "https://localhost:8080/"
        },
        "id": "8lvQIpw0issA",
        "outputId": "d6166ebb-9cfb-4bd2-b7cb-18c345ab3743"
      },
      "source": [
        "gear = cars[\"gear\"]\n",
        "carb = cars[\"carb\"]\n",
        "gear_carb = cars[[\"gear\", \"carb\"]]\n",
        "\n",
        "Mutual_Info(gear, carb, gear_carb)"
      ],
      "execution_count": 18,
      "outputs": [
        {
          "output_type": "execute_result",
          "data": {
            "text/plain": [
              "1.5045004384149032"
            ]
          },
          "metadata": {
            "tags": []
          },
          "execution_count": 18
        }
      ]
    }
  ]
}