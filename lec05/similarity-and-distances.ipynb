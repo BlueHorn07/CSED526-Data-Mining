{
  "nbformat": 4,
  "nbformat_minor": 0,
  "metadata": {
    "colab": {
      "name": "Untitled0.ipynb",
      "provenance": [],
      "collapsed_sections": []
    },
    "kernelspec": {
      "name": "python3",
      "display_name": "Python 3"
    },
    "language_info": {
      "name": "python"
    }
  },
  "cells": [
    {
      "cell_type": "markdown",
      "metadata": {
        "id": "AQyTumU3OQQl"
      },
      "source": [
        "# Similarity & Distances\n",
        "\n",
        "1. cosine similarity\n",
        "2. Minkowski distance\n",
        "3. Mahalanobis distance\n"
      ]
    },
    {
      "cell_type": "code",
      "metadata": {
        "colab": {
          "base_uri": "https://localhost:8080/",
          "height": 202
        },
        "id": "D4ySSaEUPUf6",
        "outputId": "7c2d60eb-e78e-4787-d0f1-a187bae9e3e4"
      },
      "source": [
        "import pandas as pd\n",
        "import numpy as np\n",
        "from numpy import linalg as la\n",
        "\n",
        "cars = pd.read_csv(\"https://gist.githubusercontent.com/noamross/e5d3e859aa0c794be10b/raw/b999fb4425b54c63cab088c0ce2c0d6ce961a563/cars.csv\")\n",
        "cars.head()"
      ],
      "execution_count": 24,
      "outputs": [
        {
          "output_type": "execute_result",
          "data": {
            "text/html": [
              "<div>\n",
              "<style scoped>\n",
              "    .dataframe tbody tr th:only-of-type {\n",
              "        vertical-align: middle;\n",
              "    }\n",
              "\n",
              "    .dataframe tbody tr th {\n",
              "        vertical-align: top;\n",
              "    }\n",
              "\n",
              "    .dataframe thead th {\n",
              "        text-align: right;\n",
              "    }\n",
              "</style>\n",
              "<table border=\"1\" class=\"dataframe\">\n",
              "  <thead>\n",
              "    <tr style=\"text-align: right;\">\n",
              "      <th></th>\n",
              "      <th>Unnamed: 0</th>\n",
              "      <th>mpg</th>\n",
              "      <th>cyl</th>\n",
              "      <th>disp</th>\n",
              "      <th>hp</th>\n",
              "      <th>drat</th>\n",
              "      <th>wt</th>\n",
              "      <th>qsec</th>\n",
              "      <th>vs</th>\n",
              "      <th>am</th>\n",
              "      <th>gear</th>\n",
              "      <th>carb</th>\n",
              "    </tr>\n",
              "  </thead>\n",
              "  <tbody>\n",
              "    <tr>\n",
              "      <th>0</th>\n",
              "      <td>Mazda RX4</td>\n",
              "      <td>21.0</td>\n",
              "      <td>6</td>\n",
              "      <td>160.0</td>\n",
              "      <td>110</td>\n",
              "      <td>3.90</td>\n",
              "      <td>2.620</td>\n",
              "      <td>16.46</td>\n",
              "      <td>0</td>\n",
              "      <td>1</td>\n",
              "      <td>4</td>\n",
              "      <td>4</td>\n",
              "    </tr>\n",
              "    <tr>\n",
              "      <th>1</th>\n",
              "      <td>Mazda RX4 Wag</td>\n",
              "      <td>21.0</td>\n",
              "      <td>6</td>\n",
              "      <td>160.0</td>\n",
              "      <td>110</td>\n",
              "      <td>3.90</td>\n",
              "      <td>2.875</td>\n",
              "      <td>17.02</td>\n",
              "      <td>0</td>\n",
              "      <td>1</td>\n",
              "      <td>4</td>\n",
              "      <td>4</td>\n",
              "    </tr>\n",
              "    <tr>\n",
              "      <th>2</th>\n",
              "      <td>Datsun 710</td>\n",
              "      <td>22.8</td>\n",
              "      <td>4</td>\n",
              "      <td>108.0</td>\n",
              "      <td>93</td>\n",
              "      <td>3.85</td>\n",
              "      <td>2.320</td>\n",
              "      <td>18.61</td>\n",
              "      <td>1</td>\n",
              "      <td>1</td>\n",
              "      <td>4</td>\n",
              "      <td>1</td>\n",
              "    </tr>\n",
              "    <tr>\n",
              "      <th>3</th>\n",
              "      <td>Hornet 4 Drive</td>\n",
              "      <td>21.4</td>\n",
              "      <td>6</td>\n",
              "      <td>258.0</td>\n",
              "      <td>110</td>\n",
              "      <td>3.08</td>\n",
              "      <td>3.215</td>\n",
              "      <td>19.44</td>\n",
              "      <td>1</td>\n",
              "      <td>0</td>\n",
              "      <td>3</td>\n",
              "      <td>1</td>\n",
              "    </tr>\n",
              "    <tr>\n",
              "      <th>4</th>\n",
              "      <td>Hornet Sportabout</td>\n",
              "      <td>18.7</td>\n",
              "      <td>8</td>\n",
              "      <td>360.0</td>\n",
              "      <td>175</td>\n",
              "      <td>3.15</td>\n",
              "      <td>3.440</td>\n",
              "      <td>17.02</td>\n",
              "      <td>0</td>\n",
              "      <td>0</td>\n",
              "      <td>3</td>\n",
              "      <td>2</td>\n",
              "    </tr>\n",
              "  </tbody>\n",
              "</table>\n",
              "</div>"
            ],
            "text/plain": [
              "          Unnamed: 0   mpg  cyl   disp   hp  ...   qsec  vs  am  gear  carb\n",
              "0          Mazda RX4  21.0    6  160.0  110  ...  16.46   0   1     4     4\n",
              "1      Mazda RX4 Wag  21.0    6  160.0  110  ...  17.02   0   1     4     4\n",
              "2         Datsun 710  22.8    4  108.0   93  ...  18.61   1   1     4     1\n",
              "3     Hornet 4 Drive  21.4    6  258.0  110  ...  19.44   1   0     3     1\n",
              "4  Hornet Sportabout  18.7    8  360.0  175  ...  17.02   0   0     3     2\n",
              "\n",
              "[5 rows x 12 columns]"
            ]
          },
          "metadata": {
            "tags": []
          },
          "execution_count": 24
        }
      ]
    },
    {
      "cell_type": "markdown",
      "metadata": {
        "id": "-uBZFwuPOcC6"
      },
      "source": [
        "## Cosine Similarity"
      ]
    },
    {
      "cell_type": "code",
      "metadata": {
        "id": "w7fySVKSOFiL"
      },
      "source": [
        "def cosine_similarity(x, y):\n",
        "  return np.dot(x, y) / (la.norm(x) * la.norm(y))"
      ],
      "execution_count": 4,
      "outputs": []
    },
    {
      "cell_type": "code",
      "metadata": {
        "colab": {
          "base_uri": "https://localhost:8080/"
        },
        "id": "fBqsrdhjOhN4",
        "outputId": "38b3d9a4-6d58-4d9f-b927-23a74f7e4884"
      },
      "source": [
        "disp = cars[\"disp\"]\n",
        "hp = cars[\"hp\"]\n",
        "\n",
        "print(\"(disp, disp):\", cosine_similarity(disp, disp))\n",
        "print(\"(disp, hp):\", cosine_similarity(disp, hp))"
      ],
      "execution_count": 27,
      "outputs": [
        {
          "output_type": "stream",
          "text": [
            "(disp, disp): 1.0\n",
            "(disp, hp): 0.9576399993708385\n"
          ],
          "name": "stdout"
        }
      ]
    },
    {
      "cell_type": "markdown",
      "metadata": {
        "id": "UTHxXneGScyG"
      },
      "source": [
        "## Minkowski Distance"
      ]
    },
    {
      "cell_type": "code",
      "metadata": {
        "id": "p8tPYfx9Se0n"
      },
      "source": [
        "def minkowski_distance(x, y, r):\n",
        "  sum = 0\n",
        "  for i in range(len(x)):\n",
        "    sum += np.power(np.abs(x[i] - y[i]), r)\n",
        "  return np.power(sum, 1/r)"
      ],
      "execution_count": 28,
      "outputs": []
    },
    {
      "cell_type": "code",
      "metadata": {
        "colab": {
          "base_uri": "https://localhost:8080/"
        },
        "id": "_rvvtA_ESjlP",
        "outputId": "783c3eb0-0807-4278-bd9c-318665bec906"
      },
      "source": [
        "print(\"(disp, disp, r=2):\", minkowski_distance(disp, disp, 2))\n",
        "print(\"(disp, hp, r=2):\", minkowski_distance(disp, hp, 2))\n",
        "print(\"(disp, hp, r=3):\", minkowski_distance(disp, hp, 3))\n",
        "print(\"(disp, hp, r=100):\", minkowski_distance(disp, hp, 100))"
      ],
      "execution_count": 35,
      "outputs": [
        {
          "output_type": "stream",
          "text": [
            "(disp, disp, r=2): 0.0\n",
            "(disp, hp, r=2): 656.6404419467323\n",
            "(disp, hp, r=3): 433.2535606783471\n",
            "(disp, hp, r=100): 267.0004920859905\n"
          ],
          "name": "stdout"
        }
      ]
    },
    {
      "cell_type": "markdown",
      "metadata": {
        "id": "jURxVVdrS7SD"
      },
      "source": [
        "## Mahalanobis Distance"
      ]
    },
    {
      "cell_type": "code",
      "metadata": {
        "id": "3qeE7IAxS9n_"
      },
      "source": [
        "def mahalanobis_distance(x, y, cov):\n",
        "  return np.power(np.transpose(x - y) @ cov @ (x-y), 0.5)"
      ],
      "execution_count": 36,
      "outputs": []
    },
    {
      "cell_type": "code",
      "metadata": {
        "colab": {
          "base_uri": "https://localhost:8080/"
        },
        "id": "dVmPJLM9Td1Y",
        "outputId": "727645da-2ed8-4b6a-fd27-f9a31b64190e"
      },
      "source": [
        "np.cov(disp, disp)"
      ],
      "execution_count": 41,
      "outputs": [
        {
          "output_type": "execute_result",
          "data": {
            "text/plain": [
              "array([[15360.79982863,  6721.15866935],\n",
              "       [ 6721.15866935,  4700.86693548]])"
            ]
          },
          "metadata": {
            "tags": []
          },
          "execution_count": 41
        }
      ]
    },
    {
      "cell_type": "code",
      "metadata": {
        "colab": {
          "base_uri": "https://localhost:8080/"
        },
        "id": "qrJ7myOeTE84",
        "outputId": "f1f4d9f9-a8a8-48cf-b14b-3b1f5eb5bc4e"
      },
      "source": [
        "cov = np.random.rand(len(disp), len(disp))\n",
        "\n",
        "print(\"(disp, disp):\", mahalanobis_distance(disp, disp, cov))\n",
        "print(\"(disp, hp):\", mahalanobis_distance(disp, hp, cov))"
      ],
      "execution_count": 47,
      "outputs": [
        {
          "output_type": "stream",
          "text": [
            "(disp, disp): 0.0\n",
            "(disp, hp): 2001.9557827192898\n"
          ],
          "name": "stdout"
        }
      ]
    }
  ]
}